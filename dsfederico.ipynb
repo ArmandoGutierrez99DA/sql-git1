{
 "cells": [
  {
   "cell_type": "code",
   "execution_count": 1,
   "id": "4978498b-ee56-43f7-a9d2-d2f74cae7d8a",
   "metadata": {},
   "outputs": [],
   "source": [
    "palabra = \"banana\""
   ]
  },
  {
   "cell_type": "code",
   "execution_count": 3,
   "id": "ccb6be6f-3a59-4fb6-8917-758ba1d5246e",
   "metadata": {},
   "outputs": [
    {
     "data": {
      "text/plain": [
       "str"
      ]
     },
     "execution_count": 3,
     "metadata": {},
     "output_type": "execute_result"
    }
   ],
   "source": [
    "type(palabra)"
   ]
  },
  {
   "cell_type": "code",
   "execution_count": 6,
   "id": "4030f478-8883-4d69-8b0d-547ab1bdc9fe",
   "metadata": {},
   "outputs": [
    {
     "data": {
      "text/plain": [
       "['__add__',\n",
       " '__class__',\n",
       " '__contains__',\n",
       " '__delattr__',\n",
       " '__dir__',\n",
       " '__doc__',\n",
       " '__eq__',\n",
       " '__format__',\n",
       " '__ge__',\n",
       " '__getattribute__',\n",
       " '__getitem__',\n",
       " '__getnewargs__',\n",
       " '__getstate__',\n",
       " '__gt__',\n",
       " '__hash__',\n",
       " '__init__',\n",
       " '__init_subclass__',\n",
       " '__iter__',\n",
       " '__le__',\n",
       " '__len__',\n",
       " '__lt__',\n",
       " '__mod__',\n",
       " '__mul__',\n",
       " '__ne__',\n",
       " '__new__',\n",
       " '__reduce__',\n",
       " '__reduce_ex__',\n",
       " '__repr__',\n",
       " '__rmod__',\n",
       " '__rmul__',\n",
       " '__setattr__',\n",
       " '__sizeof__',\n",
       " '__str__',\n",
       " '__subclasshook__',\n",
       " 'capitalize',\n",
       " 'casefold',\n",
       " 'center',\n",
       " 'count',\n",
       " 'encode',\n",
       " 'endswith',\n",
       " 'expandtabs',\n",
       " 'find',\n",
       " 'format',\n",
       " 'format_map',\n",
       " 'index',\n",
       " 'isalnum',\n",
       " 'isalpha',\n",
       " 'isascii',\n",
       " 'isdecimal',\n",
       " 'isdigit',\n",
       " 'isidentifier',\n",
       " 'islower',\n",
       " 'isnumeric',\n",
       " 'isprintable',\n",
       " 'isspace',\n",
       " 'istitle',\n",
       " 'isupper',\n",
       " 'join',\n",
       " 'ljust',\n",
       " 'lower',\n",
       " 'lstrip',\n",
       " 'maketrans',\n",
       " 'partition',\n",
       " 'removeprefix',\n",
       " 'removesuffix',\n",
       " 'replace',\n",
       " 'rfind',\n",
       " 'rindex',\n",
       " 'rjust',\n",
       " 'rpartition',\n",
       " 'rsplit',\n",
       " 'rstrip',\n",
       " 'split',\n",
       " 'splitlines',\n",
       " 'startswith',\n",
       " 'strip',\n",
       " 'swapcase',\n",
       " 'title',\n",
       " 'translate',\n",
       " 'upper',\n",
       " 'zfill']"
      ]
     },
     "execution_count": 6,
     "metadata": {},
     "output_type": "execute_result"
    }
   ],
   "source": [
    "dir(palabra)"
   ]
  },
  {
   "cell_type": "code",
   "execution_count": 7,
   "id": "76b270ec-2327-4b4e-9a73-c1415bc3b2de",
   "metadata": {},
   "outputs": [
    {
     "data": {
      "text/plain": [
       "3"
      ]
     },
     "execution_count": 7,
     "metadata": {},
     "output_type": "execute_result"
    }
   ],
   "source": [
    "palabra.count(\"a\")"
   ]
  },
  {
   "cell_type": "code",
   "execution_count": 15,
   "id": "cdaf681a-7b6b-45bf-97af-25c04fec3e0c",
   "metadata": {},
   "outputs": [],
   "source": [
    "frase = \"Este carro es de un contacto, pero no se que nombre tiene, ya que no lo recuerdo\""
   ]
  },
  {
   "cell_type": "code",
   "execution_count": 16,
   "id": "1eba5ad9-4c60-4e73-b3fc-e63f6a9be54e",
   "metadata": {},
   "outputs": [
    {
     "data": {
      "text/plain": [
       "['Este',\n",
       " 'carro',\n",
       " 'es',\n",
       " 'de',\n",
       " 'un',\n",
       " 'contacto,',\n",
       " 'pero',\n",
       " 'no',\n",
       " 'se',\n",
       " 'que',\n",
       " 'nombre',\n",
       " 'tiene,',\n",
       " 'ya',\n",
       " 'que',\n",
       " 'no',\n",
       " 'lo',\n",
       " 'recuerdo']"
      ]
     },
     "execution_count": 16,
     "metadata": {},
     "output_type": "execute_result"
    }
   ],
   "source": [
    "frase.split(\" \")"
   ]
  },
  {
   "cell_type": "code",
   "execution_count": 21,
   "id": "a465cef8-c85d-4cb9-a75a-21149f58dc0a",
   "metadata": {},
   "outputs": [
    {
     "name": "stdin",
     "output_type": "stream",
     "text": [
      "Escribe tu nombre: Armando\n",
      "Escribe tu edad 59\n"
     ]
    }
   ],
   "source": [
    "nombre = input('Escribe tu nombre:')\n",
    "edad = input('Escribe tu edad')"
   ]
  },
  {
   "cell_type": "code",
   "execution_count": 24,
   "id": "048281b3-5cf9-456b-b86c-d0b9ee6519e7",
   "metadata": {},
   "outputs": [],
   "source": [
    "# Clase 26 formateo en python de Strings\n",
    "frase = f'hola mi nombre es {nombre} y tengo {edad} años'"
   ]
  },
  {
   "cell_type": "code",
   "execution_count": 25,
   "id": "dda7cd30-f300-4687-8f97-c72c1ce54cee",
   "metadata": {},
   "outputs": [
    {
     "data": {
      "text/plain": [
       "'hola mi nombre es Armando y tengo 59 años'"
      ]
     },
     "execution_count": 25,
     "metadata": {},
     "output_type": "execute_result"
    }
   ],
   "source": [
    "frase"
   ]
  },
  {
   "cell_type": "code",
   "execution_count": 32,
   "id": "8b19371e-a588-4661-9d55-a169eec0cdf1",
   "metadata": {},
   "outputs": [
    {
     "name": "stdout",
     "output_type": "stream",
     "text": [
      "Hace frio\n"
     ]
    }
   ],
   "source": [
    "# clae 36: estructuras de control IF\n",
    "temperatura = 21\n",
    "\n",
    "if temperatura > 20:\n",
    "    print('Hace frio')"
   ]
  },
  {
   "cell_type": "code",
   "execution_count": 35,
   "id": "cd71839e-aba5-48b3-af68-6b4d8fee6207",
   "metadata": {},
   "outputs": [
    {
     "name": "stdout",
     "output_type": "stream",
     "text": [
      "0\n",
      "1\n",
      "2\n",
      "3\n",
      "4\n",
      "5\n",
      "6\n"
     ]
    }
   ],
   "source": [
    "# rango\n",
    "mirango = range(7)\n",
    "\n",
    "for n in mirango:\n",
    "    print(n)"
   ]
  },
  {
   "cell_type": "code",
   "execution_count": 37,
   "id": "7a88c1c6-3c89-442f-ba10-aef73b2ccc18",
   "metadata": {},
   "outputs": [
    {
     "name": "stdout",
     "output_type": "stream",
     "text": [
      "0\n",
      "1\n",
      "2\n",
      "3\n",
      "4\n",
      "5\n"
     ]
    }
   ],
   "source": [
    "palabra = \"python\"\n",
    "for n in range(len(palabra)):\n",
    "    print(n)"
   ]
  },
  {
   "cell_type": "code",
   "execution_count": 38,
   "id": "a9cde154-69e4-4a51-86a7-967dc0896002",
   "metadata": {},
   "outputs": [
    {
     "name": "stdout",
     "output_type": "stream",
     "text": [
      "0\n",
      "1\n",
      "2\n",
      "3\n",
      "4\n"
     ]
    }
   ],
   "source": [
    "# Loop while\n",
    "contador =0\n",
    "\n",
    "while contador < 5:\n",
    "    print(contador)\n",
    "    contador +=1\n",
    "    "
   ]
  },
  {
   "cell_type": "code",
   "execution_count": 39,
   "id": "1fee05c8-7174-44fa-9168-82283d899bfb",
   "metadata": {},
   "outputs": [],
   "source": [
    "# funcion\n",
    "def saludo():\n",
    "    print(\"Hola mister A\")"
   ]
  },
  {
   "cell_type": "code",
   "execution_count": 40,
   "id": "1374a8ad-295b-43ea-bb80-72af422ffc7d",
   "metadata": {},
   "outputs": [
    {
     "name": "stdout",
     "output_type": "stream",
     "text": [
      "Hola mister A\n"
     ]
    }
   ],
   "source": [
    "saludo()"
   ]
  },
  {
   "cell_type": "code",
   "execution_count": 44,
   "id": "45c12e1e-1a4d-480b-81ac-bd7d2d850bb8",
   "metadata": {},
   "outputs": [],
   "source": [
    "# funcion\n",
    "def saludo(nombre):\n",
    "    print(f\"Hola como estas {nombre} ?\")"
   ]
  },
  {
   "cell_type": "code",
   "execution_count": 45,
   "id": "e3bb3785-b50b-4d4f-a935-afc1b5295ae0",
   "metadata": {},
   "outputs": [
    {
     "name": "stdout",
     "output_type": "stream",
     "text": [
      "Hola como estas Armando ?\n"
     ]
    }
   ],
   "source": [
    "saludo(\"Armando\")"
   ]
  },
  {
   "cell_type": "code",
   "execution_count": 46,
   "id": "cb440b3a-e7d7-4e84-8b47-4c6263773c4a",
   "metadata": {},
   "outputs": [],
   "source": [
    "# funcion con parámetros y return con resultado\n",
    "def sumar(a,b):\n",
    "    resultado = a +b\n",
    "    return resultado"
   ]
  },
  {
   "cell_type": "code",
   "execution_count": 48,
   "id": "df8e2b13-e8eb-443f-b5d5-3841f759fa8d",
   "metadata": {},
   "outputs": [],
   "source": [
    "numero = sumar(3, 6)"
   ]
  },
  {
   "cell_type": "code",
   "execution_count": 49,
   "id": "45e14b9d-92fa-44fe-95c7-1121b11fd7f7",
   "metadata": {},
   "outputs": [
    {
     "data": {
      "text/plain": [
       "9"
      ]
     },
     "execution_count": 49,
     "metadata": {},
     "output_type": "execute_result"
    }
   ],
   "source": [
    "numero "
   ]
  },
  {
   "cell_type": "code",
   "execution_count": 50,
   "id": "33a63aed-9f9c-4764-9748-a25675621676",
   "metadata": {},
   "outputs": [
    {
     "data": {
      "text/plain": [
       "27"
      ]
     },
     "execution_count": 50,
     "metadata": {},
     "output_type": "execute_result"
    }
   ],
   "source": [
    "numero * 3"
   ]
  },
  {
   "cell_type": "code",
   "execution_count": 61,
   "id": "f9235178-9972-42bc-886c-a4032b2c05de",
   "metadata": {},
   "outputs": [],
   "source": [
    "def imprimir_numeros_pares_hasta(n):\n",
    "        for numero in range(n+):\n",
    "            if numero % 2 == 0:\n",
    "                print (numero)"
   ]
  },
  {
   "cell_type": "code",
   "execution_count": 60,
   "id": "1753329a-8108-4036-a8cd-07d690910761",
   "metadata": {},
   "outputs": [
    {
     "name": "stdout",
     "output_type": "stream",
     "text": [
      "0\n",
      "2\n",
      "4\n",
      "6\n",
      "8\n"
     ]
    }
   ],
   "source": [
    "imprimir_numeros_pares_hasta(10)"
   ]
  },
  {
   "cell_type": "code",
   "execution_count": 69,
   "id": "74be945f-b4f2-4ae5-9c34-5f26094f0dbd",
   "metadata": {},
   "outputs": [],
   "source": [
    "mi_lista = [1,2,3,4,5,6]\n",
    "\n",
    "def cuadrado(n):\n",
    "    return n * n\n",
    "    \n",
    "def calcular_lista(numeros):\n",
    "    for numero in numeros:\n",
    "        resultado = cuadrado(numero)\n",
    "        print(f\"El cuadrado de {numero} es {resultado}\")\n"
   ]
  },
  {
   "cell_type": "code",
   "execution_count": 70,
   "id": "9a71e9cb-2094-4fc5-94d3-091717bb879e",
   "metadata": {},
   "outputs": [
    {
     "name": "stdout",
     "output_type": "stream",
     "text": [
      "El cuadrado de 1 es 1\n",
      "El cuadrado de 2 es 4\n",
      "El cuadrado de 3 es 9\n",
      "El cuadrado de 4 es 16\n",
      "El cuadrado de 5 es 25\n",
      "El cuadrado de 6 es 36\n"
     ]
    }
   ],
   "source": [
    "calcular_lista(mi_lista)"
   ]
  },
  {
   "cell_type": "code",
   "execution_count": 72,
   "id": "307aea2c-c124-4a74-9726-cd95df6d5807",
   "metadata": {},
   "outputs": [
    {
     "ename": "AttributeError",
     "evalue": "'list' object has no attribute 'str'",
     "output_type": "error",
     "traceback": [
      "\u001b[0;31m---------------------------------------------------------------------------\u001b[0m",
      "\u001b[0;31mAttributeError\u001b[0m                            Traceback (most recent call last)",
      "Cell \u001b[0;32mIn[72], line 1\u001b[0m\n\u001b[0;32m----> 1\u001b[0m help(mi_lista\u001b[38;5;241m.\u001b[39mstr)\n",
      "\u001b[0;31mAttributeError\u001b[0m: 'list' object has no attribute 'str'"
     ]
    }
   ],
   "source": [
    "help(mi_lista.str)"
   ]
  },
  {
   "cell_type": "code",
   "execution_count": null,
   "id": "b34ab35c-233f-44a7-a610-fc54029b9718",
   "metadata": {},
   "outputs": [],
   "source": []
  }
 ],
 "metadata": {
  "kernelspec": {
   "display_name": "Python 3 (ipykernel)",
   "language": "python",
   "name": "python3"
  },
  "language_info": {
   "codemirror_mode": {
    "name": "ipython",
    "version": 3
   },
   "file_extension": ".py",
   "mimetype": "text/x-python",
   "name": "python",
   "nbconvert_exporter": "python",
   "pygments_lexer": "ipython3",
   "version": "3.12.7"
  }
 },
 "nbformat": 4,
 "nbformat_minor": 5
}
